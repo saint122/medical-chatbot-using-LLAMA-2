{
 "cells": [
  {
   "cell_type": "code",
   "execution_count": 1,
   "id": "72e45f4c-5015-47f7-ad65-85377f8b31c7",
   "metadata": {},
   "outputs": [
    {
     "name": "stderr",
     "output_type": "stream",
     "text": [
      "c:\\users\\91810\\medical-chatbot-using-llama-2\\mchatbot\\lib\\site-packages\\pinecone\\index.py:4: TqdmExperimentalWarning: Using `tqdm.autonotebook.tqdm` in notebook mode. Use `tqdm.tqdm` instead to force console mode (e.g. in jupyter console)\n",
      "  from tqdm.autonotebook import tqdm\n"
     ]
    }
   ],
   "source": [
    "from langchain import PromptTemplate\n",
    "from langchain.chains import retrieval_qa\n",
    "from langchain.embeddings import HuggingFaceEmbeddings\n",
    "from langchain.vectorstores import Pinecone\n",
    "import pinecone\n",
    "from langchain.document_loaders import PyPDFLoader, DirectoryLoader\n",
    "from langchain.text_splitter import RecursiveCharacterTextSplitter # with its help we will create chunks of the data\n",
    "from langchain.prompts import PromptTemplate\n",
    "from langchain.llms import CTransformers\n",
    "\n"
   ]
  },
  {
   "cell_type": "code",
   "execution_count": 2,
   "id": "1d12b904-57c4-4622-9416-c21d3ff53e55",
   "metadata": {},
   "outputs": [],
   "source": [
    "from tqdm.autonotebook import tqdm"
   ]
  },
  {
   "cell_type": "code",
   "execution_count": 3,
   "id": "8d6dd0de-7eba-4a45-a2ed-875a1cddecf2",
   "metadata": {},
   "outputs": [],
   "source": [
    "pinecone_api_key = \"e8934cf7-96ea-41da-9886-ab387d810463\"\n",
    "pinecone_api_env = \"gcp-starter\"\n"
   ]
  },
  {
   "cell_type": "code",
   "execution_count": 4,
   "id": "82a1dd5f-eaa6-4bb1-8478-8b4faddaeb62",
   "metadata": {},
   "outputs": [],
   "source": [
    "#extracting data from pdf\n",
    "def load(data):\n",
    "    loader = DirectoryLoader(data,\n",
    "                    glob=\"*.pdf\",\n",
    "                    loader_cls = PyPDFLoader)\n",
    "    documents = loader.loads()\n",
    "    return documents\n",
    "    \n",
    "                    "
   ]
  },
  {
   "cell_type": "code",
   "execution_count": null,
   "id": "5083e8db-0b57-4a6a-8da4-52486edcb10a",
   "metadata": {},
   "outputs": [],
   "source": []
  }
 ],
 "metadata": {
  "kernelspec": {
   "display_name": "Python 3 (ipykernel)",
   "language": "python",
   "name": "python3"
  },
  "language_info": {
   "codemirror_mode": {
    "name": "ipython",
    "version": 3
   },
   "file_extension": ".py",
   "mimetype": "text/x-python",
   "name": "python",
   "nbconvert_exporter": "python",
   "pygments_lexer": "ipython3",
   "version": "3.9.0"
  }
 },
 "nbformat": 4,
 "nbformat_minor": 5
}
